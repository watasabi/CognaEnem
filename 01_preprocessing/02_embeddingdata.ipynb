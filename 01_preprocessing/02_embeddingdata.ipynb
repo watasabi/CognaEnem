{
 "cells": [
  {
   "cell_type": "code",
   "execution_count": 1,
   "id": "798837f1",
   "metadata": {},
   "outputs": [
    {
     "name": "stderr",
     "output_type": "stream",
     "text": [
      "c:\\Users\\RWP\\Anaconda\\envs\\cogna_py310\\lib\\site-packages\\tqdm\\auto.py:21: TqdmWarning: IProgress not found. Please update jupyter and ipywidgets. See https://ipywidgets.readthedocs.io/en/stable/user_install.html\n",
      "  from .autonotebook import tqdm as notebook_tqdm\n"
     ]
    }
   ],
   "source": [
    "from processing import (\n",
    "    extract_domain_features,\n",
    "    add_processed_essay_columns,\n",
    "    process_essay_with_conclusion,\n",
    ")\n",
    "import pandas as pd\n",
    "pd.set_option(\"display.max_columns\", None)\n",
    "import os\n",
    "import transformers\n",
    "from sentence_transformers import SentenceTransformer"
   ]
  },
  {
   "cell_type": "code",
   "execution_count": 2,
   "id": "cbcae063",
   "metadata": {},
   "outputs": [],
   "source": [
    "model = SentenceTransformer(\"all-mpnet-base-v2\")"
   ]
  },
  {
   "cell_type": "code",
   "execution_count": 3,
   "metadata": {},
   "outputs": [],
   "source": [
    "df_train, df_valid, df_test = (\n",
    "    pd.read_parquet(\"../02_output/train.parquet\"),\n",
    "    pd.read_parquet(\"../02_output/valid.parquet\"),\n",
    "    pd.read_parquet(\"../02_output/test.parquet\"),\n",
    ")"
   ]
  },
  {
   "cell_type": "code",
   "execution_count": 4,
   "metadata": {},
   "outputs": [
    {
     "name": "stderr",
     "output_type": "stream",
     "text": [
      "Processing dataframes: 100%|██████████| 3/3 [00:01<00:00,  1.89it/s]\n"
     ]
    }
   ],
   "source": [
    "from tqdm.auto import tqdm\n",
    "\n",
    "dataframes = {'train': df_train, 'valid': df_valid, 'test': df_test}\n",
    "\n",
    "for name, df in tqdm(dataframes.items(), desc=\"Processing dataframes\"):\n",
    "    dataframes[name] = add_processed_essay_columns(df, \"essay\")\n",
    "    dataframes[name] = extract_domain_features(dataframes[name])\n",
    "\n",
    "# Assign back to original variables\n",
    "df_train, df_valid, df_test = dataframes['train'], dataframes['valid'], dataframes['test']"
   ]
  },
  {
   "cell_type": "code",
   "execution_count": 7,
   "id": "2ff5d43e",
   "metadata": {},
   "outputs": [],
   "source": [
    "def generate_embeddings(df, model, columns_to_encode):\n",
    "    \"\"\"\n",
    "    generate embeddings\n",
    "    \n",
    "    Args:\n",
    "        df: pandas DataFrame containing text columns\n",
    "        model: SentenceTransformer model\n",
    "        columns_to_encode: list of column names to generate embeddings for\n",
    "    \n",
    "    Returns:\n",
    "        DataFrame with added embedding columns\n",
    "    \"\"\"\n",
    "    df_copy = df.copy()\n",
    "    for column in columns_to_encode:\n",
    "        embedding_col_name = f\"{column}_embedding\"\n",
    "        df_copy[embedding_col_name] = df_copy[column].apply(\n",
    "            lambda x: model.encode(x, show_progress_bar=False, convert_to_tensor=False)\n",
    "        )\n",
    "    \n",
    "    return df_copy"
   ]
  },
  {
   "cell_type": "code",
   "execution_count": 8,
   "id": "38a9a394",
   "metadata": {},
   "outputs": [],
   "source": [
    "columns_to_encode = [\"essay_full\", \"essay\", \"essay_conclusion\", \"prompt\"]\n",
    "\n",
    "dataframes[\"train\"] = generate_embeddings(dataframes[\"train\"], model, columns_to_encode)\n",
    "dataframes[\"valid\"] = generate_embeddings(dataframes[\"valid\"], model, columns_to_encode)\n",
    "dataframes[\"test\"] = generate_embeddings(dataframes[\"test\"], model, columns_to_encode)\n",
    "\n",
    "# update the previosly dataframes\n",
    "df_train, df_valid, df_test = dataframes[\"train\"], dataframes[\"valid\"], dataframes[\"test\"]"
   ]
  },
  {
   "cell_type": "code",
   "execution_count": 9,
   "id": "999c225a",
   "metadata": {},
   "outputs": [],
   "source": [
    "# save dataframes as parquet\n",
    "df_train.to_csv(\"../02_output/train_embeddings.csv\", index=False)\n",
    "df_valid.to_csv(\"../02_output/valid_embeddings.csv\", index=False)\n",
    "df_test.to_csv(\"../02_output/test_embeddings.csv\", index=False)"
   ]
  },
  {
   "cell_type": "code",
   "execution_count": 10,
   "id": "e2002777",
   "metadata": {},
   "outputs": [
    {
     "data": {
      "text/html": [
       "<div>\n",
       "<style scoped>\n",
       "    .dataframe tbody tr th:only-of-type {\n",
       "        vertical-align: middle;\n",
       "    }\n",
       "\n",
       "    .dataframe tbody tr th {\n",
       "        vertical-align: top;\n",
       "    }\n",
       "\n",
       "    .dataframe thead th {\n",
       "        text-align: right;\n",
       "    }\n",
       "</style>\n",
       "<table border=\"1\" class=\"dataframe\">\n",
       "  <thead>\n",
       "    <tr style=\"text-align: right;\">\n",
       "      <th></th>\n",
       "      <th>prompt_id</th>\n",
       "      <th>title</th>\n",
       "      <th>essay</th>\n",
       "      <th>score</th>\n",
       "      <th>prompt</th>\n",
       "      <th>comp1</th>\n",
       "      <th>comp2</th>\n",
       "      <th>comp3</th>\n",
       "      <th>comp4</th>\n",
       "      <th>comp5</th>\n",
       "      <th>essay_full</th>\n",
       "      <th>essay_conclusion</th>\n",
       "      <th>first_person_total</th>\n",
       "      <th>enclisis_count</th>\n",
       "      <th>demonstrative_pronouns</th>\n",
       "      <th>tokens_count</th>\n",
       "      <th>first_person_per_token</th>\n",
       "      <th>enclisis_per_token</th>\n",
       "      <th>demonstrative_per_token</th>\n",
       "      <th>essay_full_embedding</th>\n",
       "      <th>essay_embedding</th>\n",
       "      <th>essay_conclusion_embedding</th>\n",
       "      <th>prompt_embedding</th>\n",
       "    </tr>\n",
       "  </thead>\n",
       "  <tbody>\n",
       "    <tr>\n",
       "      <th>0</th>\n",
       "      <td>60</td>\n",
       "      <td>Reforma da previdência</td>\n",
       "      <td>[É notório que a reforma da previdência no Bra...</td>\n",
       "      <td>440</td>\n",
       "      <td>Reforma da Previdência Social, ou simplesmente...</td>\n",
       "      <td>120</td>\n",
       "      <td>80</td>\n",
       "      <td>80</td>\n",
       "      <td>120</td>\n",
       "      <td>40</td>\n",
       "      <td>É notório que a reforma da previdência no Bras...</td>\n",
       "      <td>Colocando-se na balança os prós e os contras p...</td>\n",
       "      <td>0</td>\n",
       "      <td>0</td>\n",
       "      <td>1</td>\n",
       "      <td>149</td>\n",
       "      <td>0.0</td>\n",
       "      <td>0.0</td>\n",
       "      <td>0.006711</td>\n",
       "      <td>[-0.056441665, 0.029744646, 0.017729225, -0.00...</td>\n",
       "      <td>[[-0.04907515, 0.00093634916, -0.005272345, -0...</td>\n",
       "      <td>[-0.041077167, -0.018350447, -0.008325448, -0....</td>\n",
       "      <td>[-0.06447542, -0.013312494, 0.022696443, -0.00...</td>\n",
       "    </tr>\n",
       "    <tr>\n",
       "      <th>1</th>\n",
       "      <td>51</td>\n",
       "      <td>ANALFABETISMO E SOCIEDADE</td>\n",
       "      <td>[Pode -se afirmar que a presença dos Jesuítas,...</td>\n",
       "      <td>480</td>\n",
       "      <td>São chamados de analfabetos funcionais os indi...</td>\n",
       "      <td>120</td>\n",
       "      <td>120</td>\n",
       "      <td>80</td>\n",
       "      <td>80</td>\n",
       "      <td>80</td>\n",
       "      <td>Pode -se afirmar que a presença dos Jesuítas, ...</td>\n",
       "      <td>Diante a suma o Ministério da Educação deve im...</td>\n",
       "      <td>0</td>\n",
       "      <td>0</td>\n",
       "      <td>1</td>\n",
       "      <td>191</td>\n",
       "      <td>0.0</td>\n",
       "      <td>0.0</td>\n",
       "      <td>0.005236</td>\n",
       "      <td>[-0.012735645, -0.0073190755, 0.021515086, -0....</td>\n",
       "      <td>[[0.0025596255, 0.020569874, 0.011128441, 0.00...</td>\n",
       "      <td>[-0.0050364053, -0.015260002, -0.012094379, -0...</td>\n",
       "      <td>[-0.024492957, -0.053801607, -0.030142495, 0.0...</td>\n",
       "    </tr>\n",
       "  </tbody>\n",
       "</table>\n",
       "</div>"
      ],
      "text/plain": [
       "   prompt_id                      title  \\\n",
       "0         60     Reforma da previdência   \n",
       "1         51  ANALFABETISMO E SOCIEDADE   \n",
       "\n",
       "                                               essay  score  \\\n",
       "0  [É notório que a reforma da previdência no Bra...    440   \n",
       "1  [Pode -se afirmar que a presença dos Jesuítas,...    480   \n",
       "\n",
       "                                              prompt  comp1  comp2  comp3  \\\n",
       "0  Reforma da Previdência Social, ou simplesmente...    120     80     80   \n",
       "1  São chamados de analfabetos funcionais os indi...    120    120     80   \n",
       "\n",
       "   comp4  comp5                                         essay_full  \\\n",
       "0    120     40  É notório que a reforma da previdência no Bras...   \n",
       "1     80     80  Pode -se afirmar que a presença dos Jesuítas, ...   \n",
       "\n",
       "                                    essay_conclusion  first_person_total  \\\n",
       "0  Colocando-se na balança os prós e os contras p...                   0   \n",
       "1  Diante a suma o Ministério da Educação deve im...                   0   \n",
       "\n",
       "   enclisis_count  demonstrative_pronouns  tokens_count  \\\n",
       "0               0                       1           149   \n",
       "1               0                       1           191   \n",
       "\n",
       "   first_person_per_token  enclisis_per_token  demonstrative_per_token  \\\n",
       "0                     0.0                 0.0                 0.006711   \n",
       "1                     0.0                 0.0                 0.005236   \n",
       "\n",
       "                                essay_full_embedding  \\\n",
       "0  [-0.056441665, 0.029744646, 0.017729225, -0.00...   \n",
       "1  [-0.012735645, -0.0073190755, 0.021515086, -0....   \n",
       "\n",
       "                                     essay_embedding  \\\n",
       "0  [[-0.04907515, 0.00093634916, -0.005272345, -0...   \n",
       "1  [[0.0025596255, 0.020569874, 0.011128441, 0.00...   \n",
       "\n",
       "                          essay_conclusion_embedding  \\\n",
       "0  [-0.041077167, -0.018350447, -0.008325448, -0....   \n",
       "1  [-0.0050364053, -0.015260002, -0.012094379, -0...   \n",
       "\n",
       "                                    prompt_embedding  \n",
       "0  [-0.06447542, -0.013312494, 0.022696443, -0.00...  \n",
       "1  [-0.024492957, -0.053801607, -0.030142495, 0.0...  "
      ]
     },
     "execution_count": 10,
     "metadata": {},
     "output_type": "execute_result"
    }
   ],
   "source": [
    "df_train.head(2)"
   ]
  }
 ],
 "metadata": {
  "kernelspec": {
   "display_name": "cogna_py310",
   "language": "python",
   "name": "python3"
  },
  "language_info": {
   "codemirror_mode": {
    "name": "ipython",
    "version": 3
   },
   "file_extension": ".py",
   "mimetype": "text/x-python",
   "name": "python",
   "nbconvert_exporter": "python",
   "pygments_lexer": "ipython3",
   "version": "3.10.16"
  }
 },
 "nbformat": 4,
 "nbformat_minor": 5
}
