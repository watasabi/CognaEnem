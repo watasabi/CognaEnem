{
 "cells": [
  {
   "cell_type": "code",
   "execution_count": 10,
   "id": "36e02700",
   "metadata": {},
   "outputs": [],
   "source": [
    "import pandas as pd\n",
    "import os\n",
    "import numpy as np\n",
    "from essay.build_dataset import Corpus\n",
    "import re"
   ]
  },
  {
   "cell_type": "code",
   "execution_count": 11,
   "id": "6237b2bf",
   "metadata": {},
   "outputs": [],
   "source": [
    "c = Corpus()\n",
    "train, valid, test = c.read_splits()"
   ]
  },
  {
   "cell_type": "code",
   "execution_count": 12,
   "id": "2b6c1014",
   "metadata": {},
   "outputs": [],
   "source": [
    "train.head(3)\n",
    "train.columns = ['prompt_id', 'title', 'essay', 'competence', 'score']\n",
    "valid.columns = ['prompt_id', 'title', 'essay', 'competence', 'score']\n",
    "test.columns = ['prompt_id', 'title', 'essay', 'competence', 'score']"
   ]
  },
  {
   "cell_type": "code",
   "execution_count": 15,
   "id": "705c53d9",
   "metadata": {},
   "outputs": [],
   "source": [
    "prompts_texts = pd.read_csv(\"./essay/essay-br/prompts.csv\")\n",
    "dict_prompts = dict(zip(prompts_texts[\"id\"],prompts_texts[\"description\"]))\n",
    "\n",
    "def process_dataframe(df, prompt_dict):\n",
    "    df = df.copy()\n",
    "    df[\"prompt\"] = df[\"prompt_id\"].map(prompt_dict)\n",
    "    comp_df = df[\"competence\"].apply(pd.Series)\n",
    "    comp_df.columns = ['comp1', 'comp2', 'comp3', 'comp4', 'comp5']\n",
    "    return pd.concat([df.drop('competence', axis=1), comp_df], axis=1)\n",
    "\n",
    "train =  process_dataframe(train, dict_prompts)\n",
    "valid =  process_dataframe(valid, dict_prompts)\n",
    "test  =  process_dataframe(test,  dict_prompts)"
   ]
  },
  {
   "cell_type": "code",
   "execution_count": 17,
   "id": "b5b5ee3a",
   "metadata": {},
   "outputs": [],
   "source": [
    "train.to_parquet(\"../02_output/train.parquet\", index=False)\n",
    "valid.to_parquet(\"../02_output/valid.parquet\", index=False)\n",
    "test.to_parquet(\"../02_output/test.parquet\", index=False)"
   ]
  }
 ],
 "metadata": {
  "kernelspec": {
   "display_name": "cogna_py310",
   "language": "python",
   "name": "python3"
  },
  "language_info": {
   "codemirror_mode": {
    "name": "ipython",
    "version": 3
   },
   "file_extension": ".py",
   "mimetype": "text/x-python",
   "name": "python",
   "nbconvert_exporter": "python",
   "pygments_lexer": "ipython3",
   "version": "3.10.16"
  }
 },
 "nbformat": 4,
 "nbformat_minor": 5
}
